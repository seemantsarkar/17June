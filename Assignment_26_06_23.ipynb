{
  "nbformat": 4,
  "nbformat_minor": 0,
  "metadata": {
    "colab": {
      "provenance": [],
      "authorship_tag": "ABX9TyPz9ae9GwfAut1hKyj3SfTF",
      "include_colab_link": true
    },
    "kernelspec": {
      "name": "python3",
      "display_name": "Python 3"
    },
    "language_info": {
      "name": "python"
    }
  },
  "cells": [
    {
      "cell_type": "markdown",
      "metadata": {
        "id": "view-in-github",
        "colab_type": "text"
      },
      "source": [
        "<a href=\"https://colab.research.google.com/github/seemantsarkar/17June/blob/main/Assignment_26_06_23.ipynb\" target=\"_parent\"><img src=\"https://colab.research.google.com/assets/colab-badge.svg\" alt=\"Open In Colab\"/></a>"
      ]
    },
    {
      "cell_type": "code",
      "execution_count": 9,
      "metadata": {
        "colab": {
          "base_uri": "https://localhost:8080/"
        },
        "id": "VZeOKb3w5gaq",
        "outputId": "bd937d85-0827-4a85-ddb6-ebc2f20e7da7"
      },
      "outputs": [
        {
          "output_type": "stream",
          "name": "stdout",
          "text": [
            "Enter number of rows:7\n",
            "* \n",
            "\n",
            "* * \n",
            "\n",
            "* * * \n",
            "\n",
            "* * * * \n",
            "\n",
            "* * * \n",
            "\n",
            "* * \n",
            "\n",
            "* \n",
            "\n"
          ]
        }
      ],
      "source": [
        "n=int(input(\"Enter number of rows:\"))\n",
        "if(n%2==0):\n",
        "  n=int(n/2)\n",
        "  m=n\n",
        "else:\n",
        "  n=int((n+1)/2)\n",
        "  m=n-1\n",
        "for i in range(1,n+1):\n",
        "  for j in range(1,i+1):\n",
        "    print(\"*\",end=(\" \"))\n",
        "  print(\"\\n\")\n",
        "for i in range(m,0,-1):\n",
        "  for j in range(i,0,-1):\n",
        "    print(\"*\",end=(\" \"))\n",
        "  print(\"\\n\")\n"
      ]
    },
    {
      "cell_type": "code",
      "source": [
        "n=int(input(\"Enter the number of rows: \"))\n",
        "for i in range(1,n+1):\n",
        "  if i==1 or i==n:\n",
        "    for j in range(1,n+1):\n",
        "      print(\"*\",end=\"   \")\n",
        "    print(\"\\n\")\n",
        "  else:\n",
        "    for j in range(1,n+1):\n",
        "      if j in range(2,n):\n",
        "        print(\" \",end=\"   \")\n",
        "      else:\n",
        "        print(\"*\",end=\"   \")\n",
        "    print(\"\\n\")\n",
        ""
      ],
      "metadata": {
        "colab": {
          "base_uri": "https://localhost:8080/"
        },
        "id": "8jcIuNVY7jgA",
        "outputId": "b41de914-8181-49f1-e85c-8578e9c96032"
      },
      "execution_count": 17,
      "outputs": [
        {
          "output_type": "stream",
          "name": "stdout",
          "text": [
            "Enter the number of rows: 5\n",
            "*   *   *   *   *   \n",
            "\n",
            "*               *   \n",
            "\n",
            "*               *   \n",
            "\n",
            "*               *   \n",
            "\n",
            "*   *   *   *   *   \n",
            "\n"
          ]
        }
      ]
    },
    {
      "cell_type": "code",
      "source": [
        "n=int(input(\"Enter the number of rows: \"))\n",
        "for i in range(1,n+1):\n",
        "  print(i)\n",
        "  for j in range(1,i+1):\n",
        "    print(\"*\",end=\" \")\n",
        "  print(\"\\n\")\n",
        "\n"
      ],
      "metadata": {
        "colab": {
          "base_uri": "https://localhost:8080/"
        },
        "id": "ZOVgN6Vi8PU-",
        "outputId": "4354aa31-564c-4a7c-ea73-3e741cf2625f"
      },
      "execution_count": 21,
      "outputs": [
        {
          "output_type": "stream",
          "name": "stdout",
          "text": [
            "Enter the number of rows: 5\n",
            "1\n",
            "* \n",
            "\n",
            "2\n",
            "* * \n",
            "\n",
            "3\n",
            "* * * \n",
            "\n",
            "4\n",
            "* * * * \n",
            "\n",
            "5\n",
            "* * * * * \n",
            "\n"
          ]
        }
      ]
    },
    {
      "cell_type": "code",
      "source": [
        "n=int(input(\"Enter upto which number: \"))\n",
        "for i in range(2,n+1):\n",
        "  print(i,end=\" \")\n",
        "  for j in range(1,(i*i)+1):\n",
        "    print(\"*\",end=\" \")\n",
        "  print(\"\\n\")\n",
        "\n"
      ],
      "metadata": {
        "colab": {
          "base_uri": "https://localhost:8080/"
        },
        "id": "iVfjCrh9FOex",
        "outputId": "3ad92f99-a751-43d8-daaa-cca7f57da5d4"
      },
      "execution_count": 22,
      "outputs": [
        {
          "output_type": "stream",
          "name": "stdout",
          "text": [
            "Enter upto which number: 5\n",
            "2 * * * * \n",
            "\n",
            "3 * * * * * * * * * \n",
            "\n",
            "4 * * * * * * * * * * * * * * * * \n",
            "\n",
            "5 * * * * * * * * * * * * * * * * * * * * * * * * * \n",
            "\n"
          ]
        }
      ]
    },
    {
      "cell_type": "code",
      "source": [
        "thisset={1,True,\"Apple\",\"apple\",\"banana\",\"orange\",\"orange\"}\n",
        "thisset"
      ],
      "metadata": {
        "colab": {
          "base_uri": "https://localhost:8080/"
        },
        "id": "5qJna0jUJvaj",
        "outputId": "7b8273f1-2794-4c15-9399-9d0db5f295c8"
      },
      "execution_count": 3,
      "outputs": [
        {
          "output_type": "execute_result",
          "data": {
            "text/plain": [
              "{1, 'Apple', 'apple', 'banana', 'orange'}"
            ]
          },
          "metadata": {},
          "execution_count": 3
        }
      ]
    },
    {
      "cell_type": "code",
      "source": [
        "#difference()-Returns a set containing the difference between two or more sets.\n",
        "x={1,2,3,4,5,6,7,8}\n",
        "y=((1,2,3,4))\n",
        "z=x.difference(y)\n",
        "print(z)"
      ],
      "metadata": {
        "colab": {
          "base_uri": "https://localhost:8080/"
        },
        "id": "drGYA5eh8ywf",
        "outputId": "d4e66169-4de1-4960-8222-5c84818f8dd0"
      },
      "execution_count": 5,
      "outputs": [
        {
          "output_type": "stream",
          "name": "stdout",
          "text": [
            "{5, 6, 7, 8}\n"
          ]
        }
      ]
    },
    {
      "cell_type": "code",
      "source": [
        "#issubset()-Returns whether another set contains this set or not.\n",
        "x={1,2,3,4,11}\n",
        "y={1,2,3,4,5,6,7,8}\n",
        "print(type(x),type(y))\n",
        "z=x.issubset(y)\n",
        "print(z)"
      ],
      "metadata": {
        "colab": {
          "base_uri": "https://localhost:8080/"
        },
        "id": "otmlB2r_-NXj",
        "outputId": "28de2d2d-24b6-40f7-cf0a-1c7b022821fe"
      },
      "execution_count": 18,
      "outputs": [
        {
          "output_type": "stream",
          "name": "stdout",
          "text": [
            "<class 'set'> <class 'set'>\n",
            "False\n"
          ]
        }
      ]
    },
    {
      "cell_type": "code",
      "source": [
        "#isdisjoint()-Returns whether two sets have a intersection or not\n",
        "x = {\"apple\", \"banana\", \"cherry\"}\n",
        "y = {\"google\", \"microsoft\", \"facebook\"}\n",
        "\n",
        "z = x.isdisjoint(y)\n",
        "\n",
        "print(z)"
      ],
      "metadata": {
        "colab": {
          "base_uri": "https://localhost:8080/"
        },
        "id": "739VOYzg_K3W",
        "outputId": "cf921ede-87f5-41b9-850a-029fa5c3ae00"
      },
      "execution_count": 19,
      "outputs": [
        {
          "output_type": "stream",
          "name": "stdout",
          "text": [
            "True\n"
          ]
        }
      ]
    },
    {
      "cell_type": "code",
      "source": [
        "#issuperset()-Returns whether this set contains another set or not\n",
        "x = {\"f\", \"e\", \"d\", \"c\", \"b\", \"a\"}\n",
        "y = {\"a\", \"b\", \"c\"}\n",
        "\n",
        "z = x.issuperset(y)\n",
        "\n",
        "print(z)\n"
      ],
      "metadata": {
        "colab": {
          "base_uri": "https://localhost:8080/"
        },
        "id": "L7zg58V0Altg",
        "outputId": "c36402d5-000a-4756-8a10-0b98cbaeca71"
      },
      "execution_count": 20,
      "outputs": [
        {
          "output_type": "stream",
          "name": "stdout",
          "text": [
            "True\n"
          ]
        }
      ]
    },
    {
      "cell_type": "code",
      "source": [
        "#symmetric_difference()-Returns a set that contains all items from both sets, except items that are present in both sets:\n",
        "\n",
        "x = {\"apple\", \"banana\", \"cherry\"}\n",
        "y = {\"google\", \"microsoft\", \"apple\"}\n",
        "\n",
        "z = x.symmetric_difference(y)\n",
        "\n",
        "print(z)"
      ],
      "metadata": {
        "colab": {
          "base_uri": "https://localhost:8080/"
        },
        "id": "HWzbKQPMByQS",
        "outputId": "bfadec3e-36b6-4f4c-d907-7dd6e82294e6"
      },
      "execution_count": 21,
      "outputs": [
        {
          "output_type": "stream",
          "name": "stdout",
          "text": [
            "{'microsoft', 'banana', 'google', 'cherry'}\n"
          ]
        }
      ]
    },
    {
      "cell_type": "code",
      "source": [
        "#symmetric_difference_update()-Remove the items that are present in both sets, AND insert the items that is not present in both sets:\n",
        "\n",
        "x = {\"apple\", \"banana\", \"cherry\"}\n",
        "y = {\"google\", \"microsoft\", \"apple\"}\n",
        "\n",
        "x.symmetric_difference_update(y)\n",
        "\n",
        "print(x)"
      ],
      "metadata": {
        "colab": {
          "base_uri": "https://localhost:8080/"
        },
        "id": "3VrOyPXFCYJg",
        "outputId": "8b23d902-eee1-4418-a581-3bf165bafc40"
      },
      "execution_count": 24,
      "outputs": [
        {
          "output_type": "stream",
          "name": "stdout",
          "text": [
            "{'microsoft', 'banana', 'google', 'cherry'}\n"
          ]
        }
      ]
    },
    {
      "cell_type": "code",
      "source": [],
      "metadata": {
        "id": "g8fqFjAxFoMz"
      },
      "execution_count": null,
      "outputs": []
    },
    {
      "cell_type": "code",
      "source": [
        "# Python code to demonstrate\n",
        "#call by value\n",
        "str = \"Seemant\"       #string is immutable.\n",
        "def test(string):\n",
        "  string = \"Monika\"\n",
        "  print(\"Inside Function:\", string)\n",
        "test(str)\n",
        "print(\"Outside Function:\", str)"
      ],
      "metadata": {
        "colab": {
          "base_uri": "https://localhost:8080/"
        },
        "id": "ugcTgUMxCljo",
        "outputId": "08622743-f385-49ad-e789-bcc185476d36"
      },
      "execution_count": 25,
      "outputs": [
        {
          "output_type": "stream",
          "name": "stdout",
          "text": [
            "Inside Function: Monika\n",
            "Outside Function: Seemant\n"
          ]
        }
      ]
    },
    {
      "cell_type": "code",
      "source": [
        "# Python code to demonstrate\n",
        "# call by reference\n",
        "def add_more(list):\n",
        "    list.append(50)\n",
        "    print(\"Inside Function\", list)\n",
        "\n",
        "# Driver's code\n",
        "mylist = [10,20,30,40]\n",
        "add_more(mylist)      #list is mutable\n",
        "print(\"Outside Function:\", mylist)"
      ],
      "metadata": {
        "colab": {
          "base_uri": "https://localhost:8080/"
        },
        "id": "84Y6Y6SOFcmz",
        "outputId": "a637b5bf-e0c8-4292-faca-ac7467da32f1"
      },
      "execution_count": 26,
      "outputs": [
        {
          "output_type": "stream",
          "name": "stdout",
          "text": [
            "Inside Function [10, 20, 30, 40, 50]\n",
            "Outside Function: [10, 20, 30, 40, 50]\n"
          ]
        }
      ]
    },
    {
      "cell_type": "code",
      "source": [],
      "metadata": {
        "id": "o7lCTFkoGWWS"
      },
      "execution_count": null,
      "outputs": []
    }
  ]
}