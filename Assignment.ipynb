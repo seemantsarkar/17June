{
  "cells": [
    {
      "cell_type": "markdown",
      "metadata": {
        "id": "view-in-github",
        "colab_type": "text"
      },
      "source": [
        "<a href=\"https://colab.research.google.com/github/seemantsarkar/Assignments-Assemble/blob/main/Assignment.ipynb\" target=\"_parent\"><img src=\"https://colab.research.google.com/assets/colab-badge.svg\" alt=\"Open In Colab\"/></a>"
      ]
    },
    {
      "cell_type": "code",
      "execution_count": null,
      "metadata": {
        "colab": {
          "base_uri": "https://localhost:8080/"
        },
        "id": "eE76EopFkzb_",
        "outputId": "7be855cc-1c8b-4ba9-98db-7de99e04dee9"
      },
      "outputs": [
        {
          "name": "stdout",
          "output_type": "stream",
          "text": [
            "hey data is id:2021uch1672, name:seemant,email:seemantsarkar@gmail.com\n"
          ]
        }
      ],
      "source": [
        "def company(id,name,email):\n",
        "  print(f\"hey data is id:{id}, name:{name},email:{email}\")\n",
        "#keyword argument\n",
        "#company(email=\"seemantsarkar@gmail.com\",\"seemant\",\"Seemant\",id=\"2021uch1672\") #positional argument follows keyword argument\n",
        "company(email=\"seemantsarkar@gmail.com\",name=\"seemant\",id=\"2021uch1672\")"
      ]
    },
    {
      "cell_type": "code",
      "execution_count": null,
      "metadata": {
        "colab": {
          "base_uri": "https://localhost:8080/"
        },
        "id": "Cp3bU0gCmxXL",
        "outputId": "48f2481e-89af-4bfc-bfbc-09ec4efec9e1"
      },
      "outputs": [
        {
          "name": "stdout",
          "output_type": "stream",
          "text": [
            "hey data is id:2021uch1672, name:seemant,email:seemantsarkar@gmail.com\n"
          ]
        }
      ],
      "source": [
        "#default argument\n",
        "def company(id,name=\"Seemant\",email=\"see\"):\n",
        "  print(f\"hey data is id:{id}, name:{name},email:{email}\")#default\n",
        "#keyword argument\n",
        "company(email=\"seemantsarkar@gmail.com\",name=\"seemant\",id=\"2021uch1672\")"
      ]
    },
    {
      "cell_type": "code",
      "execution_count": null,
      "metadata": {
        "colab": {
          "base_uri": "https://localhost:8080/"
        },
        "id": "9dP0bx8poDt9",
        "outputId": "5291fbc3-cd2f-40a9-dc78-eb81127ec5cf"
      },
      "outputs": [
        {
          "name": "stdout",
          "output_type": "stream",
          "text": [
            "10 2\n"
          ]
        }
      ],
      "source": [
        "#variable length argument\n",
        "#facebook => name, useremail, phone, college, university\n",
        "def info(num1,num2):\n",
        "  print(num1,num2)\n",
        "info(10,2)"
      ]
    },
    {
      "cell_type": "code",
      "execution_count": null,
      "metadata": {
        "colab": {
          "base_uri": "https://localhost:8080/"
        },
        "id": "tUZoTfLfpZd_",
        "outputId": "9a2c9cf4-cb2b-4c85-c448-81b719d22ba7"
      },
      "outputs": [
        {
          "name": "stdout",
          "output_type": "stream",
          "text": [
            "(10, 11, 12) <class 'tuple'>\n"
          ]
        }
      ],
      "source": [
        "#variable length argument\n",
        "def info(*var):\n",
        "  print(var,type(var))\n",
        "#age, salary, bio, email=>confusing using this variable length argument\n",
        "info(10,11,12)\n"
      ]
    },
    {
      "cell_type": "code",
      "execution_count": null,
      "metadata": {
        "colab": {
          "background_save": true
        },
        "id": "LvLLfo6GqXYO",
        "outputId": "b1fe028e-e611-437e-d525-dbc88cba2721"
      },
      "outputs": [
        {
          "name": "stdout",
          "output_type": "stream",
          "text": [
            "{'age': 10, 'salary': 11, 'bio': 12} <class 'dict'>\n"
          ]
        }
      ],
      "source": [
        "#Hence variable length argument\n",
        "def info(**var):\n",
        "  print(var,type(var))\n",
        "#age, salary, bio, email=>confusing using this variable length argument\n",
        "info(age10,salary=11,bio=12)"
      ]
    },
    {
      "cell_type": "code",
      "execution_count": null,
      "metadata": {
        "id": "zaQqvJjUrS6V"
      },
      "outputs": [],
      "source": []
    }
  ],
  "metadata": {
    "colab": {
      "provenance": [],
      "authorship_tag": "ABX9TyM8crA6KNFXo5y06LK5p8Vb",
      "include_colab_link": true
    },
    "kernelspec": {
      "display_name": "Python 3",
      "name": "python3"
    },
    "language_info": {
      "name": "python"
    }
  },
  "nbformat": 4,
  "nbformat_minor": 0
}