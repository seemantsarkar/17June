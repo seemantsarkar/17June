{
  "nbformat": 4,
  "nbformat_minor": 0,
  "metadata": {
    "colab": {
      "provenance": [],
      "authorship_tag": "ABX9TyOa+BkOgnRG920xZKnVadZm",
      "include_colab_link": true
    },
    "kernelspec": {
      "name": "python3",
      "display_name": "Python 3"
    },
    "language_info": {
      "name": "python"
    }
  },
  "cells": [
    {
      "cell_type": "markdown",
      "metadata": {
        "id": "view-in-github",
        "colab_type": "text"
      },
      "source": [
        "<a href=\"https://colab.research.google.com/github/seemantsarkar/Regex-Assignments-Assemble/blob/main/Assignment_28_06_23.ipynb\" target=\"_parent\"><img src=\"https://colab.research.google.com/assets/colab-badge.svg\" alt=\"Open In Colab\"/></a>"
      ]
    },
    {
      "cell_type": "code",
      "execution_count": 14,
      "metadata": {
        "colab": {
          "base_uri": "https://localhost:8080/"
        },
        "id": "C53FTbgLK-D6",
        "outputId": "acc62c9c-7ed6-499f-d7cd-1465049edb19"
      },
      "outputs": [
        {
          "output_type": "stream",
          "name": "stdout",
          "text": [
            "Enter a string vro: MonIka\n",
            "MonIkaing\n"
          ]
        }
      ],
      "source": [
        "#String problem (Appending of string at the start and end)\n",
        "x=\"ing\"\n",
        "def str_change(str):\n",
        "  vowels= {'a','e','i','o','u','A','E','I','O','U'}\n",
        "  for i in range(len(str)):\n",
        "    if i==3:\n",
        "      if str[i] in vowels:\n",
        "        return str+x\n",
        "      else:\n",
        "        newstring=''.join(('e',str,'y'))      #We can't edit the same strin as it is immutable we need to create a new string.\n",
        "        return newstring\n",
        "str_input=input(\"Enter a string vro: \")\n",
        "y=str_change(str_input)\n",
        "print(y)\n",
        "\n",
        "\n"
      ]
    },
    {
      "cell_type": "code",
      "source": [
        "#Learning Assignment done in Linkedin"
      ],
      "metadata": {
        "id": "Z4uSzK39PksG"
      },
      "execution_count": 18,
      "outputs": []
    },
    {
      "cell_type": "code",
      "source": [],
      "metadata": {
        "id": "sDkF8vpFTH2Q"
      },
      "execution_count": 15,
      "outputs": []
    },
    {
      "cell_type": "code",
      "source": [],
      "metadata": {
        "id": "RIMkzGz0TOxI"
      },
      "execution_count": null,
      "outputs": []
    }
  ]
}