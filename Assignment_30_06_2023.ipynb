{
  "nbformat": 4,
  "nbformat_minor": 0,
  "metadata": {
    "colab": {
      "provenance": [],
      "authorship_tag": "ABX9TyNZZmXsjU/TAVGY6MVL2kRt",
      "include_colab_link": true
    },
    "kernelspec": {
      "name": "python3",
      "display_name": "Python 3"
    },
    "language_info": {
      "name": "python"
    }
  },
  "cells": [
    {
      "cell_type": "markdown",
      "metadata": {
        "id": "view-in-github",
        "colab_type": "text"
      },
      "source": [
        "<a href=\"https://colab.research.google.com/github/seemantsarkar/Regex-Assignments-Assemble/blob/main/Assignment_30_06_2023.ipynb\" target=\"_parent\"><img src=\"https://colab.research.google.com/assets/colab-badge.svg\" alt=\"Open In Colab\"/></a>"
      ]
    },
    {
      "cell_type": "code",
      "source": [
        "#1st Question\n",
        "#Using lambda function and map function extract the 0th and 2nd element from each list item which is a list in itself .\n",
        "list1=[1,2,3]\n",
        "list2=[4,5,6]\n",
        "list3=[7,8,9]\n",
        "list4=[10,11,12]\n",
        "mylist1=[list1,list2,list3,list4]\n",
        "result= list(map(lambda list: [list[0],list[2]],mylist1))\n",
        "print(result)"
      ],
      "metadata": {
        "colab": {
          "base_uri": "https://localhost:8080/"
        },
        "id": "AHcc5kecTRkc",
        "outputId": "7fe79066-bd8d-404b-aed5-a0dfadea8771"
      },
      "execution_count": null,
      "outputs": [
        {
          "output_type": "stream",
          "name": "stdout",
          "text": [
            "[[1, 3], [4, 6], [7, 9], [10, 12]]\n"
          ]
        }
      ]
    },
    {
      "cell_type": "code",
      "source": [
        "#2nd Question\n",
        "#Create a list of 3 strings and extract the first word of the string and print number(1) in list of tuples i.e. dictionary.\n",
        "mylist2=[\"Hi Monika\", \"Hey Seemant\",\"Hola folks\"]\n",
        "result=list(map(lambda dict: {dict.split()[0]:1},mylist2))\n",
        "print(result)"
      ],
      "metadata": {
        "colab": {
          "base_uri": "https://localhost:8080/"
        },
        "id": "vfuFVtqtUmbQ",
        "outputId": "9ba56c22-0e71-49f8-94e0-2fccd22ab523"
      },
      "execution_count": null,
      "outputs": [
        {
          "output_type": "stream",
          "name": "stdout",
          "text": [
            "[{'Hi': 1}, {'Hey': 1}, {'Hola': 1}]\n"
          ]
        }
      ]
    },
    {
      "cell_type": "code",
      "source": [
        "get_input=input(\"Enter a string:\")\n",
        "print(get_input.split()[0])"
      ],
      "metadata": {
        "colab": {
          "base_uri": "https://localhost:8080/"
        },
        "id": "7QpD02LWWYlL",
        "outputId": "a1b38ea4-b16f-4173-c294-b9a73101967d"
      },
      "execution_count": null,
      "outputs": [
        {
          "output_type": "stream",
          "name": "stdout",
          "text": [
            "Enter a string:Hi m\n",
            "Hi\n"
          ]
        }
      ]
    },
    {
      "cell_type": "code",
      "source": [],
      "metadata": {
        "id": "sSVvNK7zXC-9"
      },
      "execution_count": null,
      "outputs": []
    }
  ]
}